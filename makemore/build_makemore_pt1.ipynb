{
 "cells": [
  {
   "cell_type": "code",
   "execution_count": 1,
   "id": "465b68ed",
   "metadata": {},
   "outputs": [],
   "source": [
    "# TODO: Goal explanation (character-level Bigram language model)"
   ]
  },
  {
   "cell_type": "code",
   "execution_count": 5,
   "id": "ae5ec3a0",
   "metadata": {},
   "outputs": [],
   "source": [
    "# TODO: input data exploration\n"
   ]
  },
  {
   "cell_type": "code",
   "execution_count": null,
   "id": "9e4a9e8c",
   "metadata": {},
   "outputs": [],
   "source": [
    "# TODO: input data visualization"
   ]
  },
  {
   "cell_type": "code",
   "execution_count": 4,
   "id": "4a62a7de",
   "metadata": {},
   "outputs": [],
   "source": [
    "# approach 1 : counting bigrams approach"
   ]
  },
  {
   "cell_type": "code",
   "execution_count": null,
   "id": "80f673b4",
   "metadata": {},
   "outputs": [],
   "source": [
    "# approach 2 : neural net approach to char-level bigram language model"
   ]
  }
 ],
 "metadata": {
  "kernelspec": {
   "display_name": "Python 3 (ipykernel)",
   "language": "python",
   "name": "python3"
  },
  "language_info": {
   "codemirror_mode": {
    "name": "ipython",
    "version": 3
   },
   "file_extension": ".py",
   "mimetype": "text/x-python",
   "name": "python",
   "nbconvert_exporter": "python",
   "pygments_lexer": "ipython3",
   "version": "3.9.16"
  }
 },
 "nbformat": 4,
 "nbformat_minor": 5
}
